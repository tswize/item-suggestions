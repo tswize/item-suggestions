{
 "cells": [
  {
   "cell_type": "code",
   "execution_count": 8,
   "metadata": {},
   "outputs": [],
   "source": [
    "import pandas as pd"
   ]
  },
  {
   "cell_type": "code",
   "execution_count": 9,
   "metadata": {},
   "outputs": [],
   "source": [
    "data = pd.read_csv(\"worksteps_10k.csv\", header=None)"
   ]
  },
  {
   "cell_type": "code",
   "execution_count": null,
   "metadata": {},
   "outputs": [],
   "source": []
  },
  {
   "cell_type": "code",
   "execution_count": 13,
   "metadata": {},
   "outputs": [
    {
     "data": {
      "text/plain": [
       "{'version': 1,\n",
       " 'state': {'stores': {'sqTrendSeriesStore': {'items': []},\n",
       "   'sqTrendCapsuleSetStore': {'items': []},\n",
       "   'sqTrendScalarStore': {'items': []},\n",
       "   'sqTrendMetricStore': {'items': []},\n",
       "   'sqTrendTableStore': {'items': []},\n",
       "   'sqDurationStore': {'autoUpdate': {'offset': 25199998},\n",
       "    'displayRange': {'start': 1674259418654, 'end': 1674345818654},\n",
       "    'investigateRange': {'start': 1673741018655, 'end': 1674345818655}},\n",
       "   'sqWorksheetStore': {'viewKey': 'TREND'}}}}"
      ]
     },
     "execution_count": 13,
     "metadata": {},
     "output_type": "execute_result"
    }
   ],
   "source": [
    "json.loads(json.loads(data.iloc[0,0])['stringValue'])"
   ]
  },
  {
   "cell_type": "code",
   "execution_count": 15,
   "metadata": {},
   "outputs": [],
   "source": [
    "def getWorkstep(x):\n",
    "    return json.loads(json.loads(x)['stringValue'])"
   ]
  },
  {
   "cell_type": "code",
   "execution_count": 16,
   "metadata": {},
   "outputs": [],
   "source": [
    "data[\"worksteps\"] = data[0].apply(getWorkstep)"
   ]
  },
  {
   "cell_type": "code",
   "execution_count": 17,
   "metadata": {},
   "outputs": [
    {
     "data": {
      "text/html": [
       "<div>\n",
       "<style scoped>\n",
       "    .dataframe tbody tr th:only-of-type {\n",
       "        vertical-align: middle;\n",
       "    }\n",
       "\n",
       "    .dataframe tbody tr th {\n",
       "        vertical-align: top;\n",
       "    }\n",
       "\n",
       "    .dataframe thead th {\n",
       "        text-align: right;\n",
       "    }\n",
       "</style>\n",
       "<table border=\"1\" class=\"dataframe\">\n",
       "  <thead>\n",
       "    <tr style=\"text-align: right;\">\n",
       "      <th></th>\n",
       "      <th>0</th>\n",
       "      <th>worksteps</th>\n",
       "    </tr>\n",
       "  </thead>\n",
       "  <tbody>\n",
       "    <tr>\n",
       "      <th>0</th>\n",
       "      <td>{\"stringValue\": \"{\\n  \\\"version\\\": 1,\\n  \\\"sta...</td>\n",
       "      <td>{'version': 1, 'state': {'stores': {'sqTrendSe...</td>\n",
       "    </tr>\n",
       "    <tr>\n",
       "      <th>1</th>\n",
       "      <td>{\"stringValue\": \"{\\n  \\\"version\\\": 1,\\n  \\\"sta...</td>\n",
       "      <td>{'version': 1, 'state': {'stores': {'sqTrendSe...</td>\n",
       "    </tr>\n",
       "    <tr>\n",
       "      <th>2</th>\n",
       "      <td>{\"stringValue\": \"{\\n  \\\"version\\\": 1,\\n  \\\"sta...</td>\n",
       "      <td>{'version': 1, 'state': {'stores': {'sqTrendSe...</td>\n",
       "    </tr>\n",
       "    <tr>\n",
       "      <th>3</th>\n",
       "      <td>{\"stringValue\": \"{\\\"version\\\": 24, \\\"state\\\": ...</td>\n",
       "      <td>{'version': 24, 'state': {'stores': {'sqTrendS...</td>\n",
       "    </tr>\n",
       "    <tr>\n",
       "      <th>4</th>\n",
       "      <td>{\"stringValue\": \"{\\\"version\\\":24,\\\"state\\\":{\\\"...</td>\n",
       "      <td>{'version': 24, 'state': {'stores': {'sqTrendS...</td>\n",
       "    </tr>\n",
       "    <tr>\n",
       "      <th>...</th>\n",
       "      <td>...</td>\n",
       "      <td>...</td>\n",
       "    </tr>\n",
       "    <tr>\n",
       "      <th>9995</th>\n",
       "      <td>{\"stringValue\": \"{\\\"version\\\":37,\\\"state\\\":{\\\"...</td>\n",
       "      <td>{'version': 37, 'state': {'stores': {'sqDurati...</td>\n",
       "    </tr>\n",
       "    <tr>\n",
       "      <th>9996</th>\n",
       "      <td>{\"stringValue\": \"{\\\"version\\\":45,\\\"state\\\":{\\\"...</td>\n",
       "      <td>{'version': 45, 'state': {'stores': {'sqPlugin...</td>\n",
       "    </tr>\n",
       "    <tr>\n",
       "      <th>9997</th>\n",
       "      <td>{\"stringValue\": \"{\\n  \\\"version\\\": 1,\\n  \\\"sta...</td>\n",
       "      <td>{'version': 1, 'state': {'stores': {'sqTrendSe...</td>\n",
       "    </tr>\n",
       "    <tr>\n",
       "      <th>9998</th>\n",
       "      <td>{\"stringValue\": \"{\\n  \\\"version\\\": 1,\\n  \\\"sta...</td>\n",
       "      <td>{'version': 1, 'state': {'stores': {'sqTrendSe...</td>\n",
       "    </tr>\n",
       "    <tr>\n",
       "      <th>9999</th>\n",
       "      <td>{\"stringValue\": \"{\\\"version\\\":28,\\\"state\\\":{\\\"...</td>\n",
       "      <td>{'version': 28, 'state': {'stores': {'sqPlugin...</td>\n",
       "    </tr>\n",
       "  </tbody>\n",
       "</table>\n",
       "<p>10000 rows × 2 columns</p>\n",
       "</div>"
      ],
      "text/plain": [
       "                                                      0  \\\n",
       "0     {\"stringValue\": \"{\\n  \\\"version\\\": 1,\\n  \\\"sta...   \n",
       "1     {\"stringValue\": \"{\\n  \\\"version\\\": 1,\\n  \\\"sta...   \n",
       "2     {\"stringValue\": \"{\\n  \\\"version\\\": 1,\\n  \\\"sta...   \n",
       "3     {\"stringValue\": \"{\\\"version\\\": 24, \\\"state\\\": ...   \n",
       "4     {\"stringValue\": \"{\\\"version\\\":24,\\\"state\\\":{\\\"...   \n",
       "...                                                 ...   \n",
       "9995  {\"stringValue\": \"{\\\"version\\\":37,\\\"state\\\":{\\\"...   \n",
       "9996  {\"stringValue\": \"{\\\"version\\\":45,\\\"state\\\":{\\\"...   \n",
       "9997  {\"stringValue\": \"{\\n  \\\"version\\\": 1,\\n  \\\"sta...   \n",
       "9998  {\"stringValue\": \"{\\n  \\\"version\\\": 1,\\n  \\\"sta...   \n",
       "9999  {\"stringValue\": \"{\\\"version\\\":28,\\\"state\\\":{\\\"...   \n",
       "\n",
       "                                              worksteps  \n",
       "0     {'version': 1, 'state': {'stores': {'sqTrendSe...  \n",
       "1     {'version': 1, 'state': {'stores': {'sqTrendSe...  \n",
       "2     {'version': 1, 'state': {'stores': {'sqTrendSe...  \n",
       "3     {'version': 24, 'state': {'stores': {'sqTrendS...  \n",
       "4     {'version': 24, 'state': {'stores': {'sqTrendS...  \n",
       "...                                                 ...  \n",
       "9995  {'version': 37, 'state': {'stores': {'sqDurati...  \n",
       "9996  {'version': 45, 'state': {'stores': {'sqPlugin...  \n",
       "9997  {'version': 1, 'state': {'stores': {'sqTrendSe...  \n",
       "9998  {'version': 1, 'state': {'stores': {'sqTrendSe...  \n",
       "9999  {'version': 28, 'state': {'stores': {'sqPlugin...  \n",
       "\n",
       "[10000 rows x 2 columns]"
      ]
     },
     "execution_count": 17,
     "metadata": {},
     "output_type": "execute_result"
    }
   ],
   "source": [
    "data"
   ]
  },
  {
   "cell_type": "code",
   "execution_count": 6,
   "metadata": {},
   "outputs": [],
   "source": [
    "import json"
   ]
  },
  {
   "cell_type": "code",
   "execution_count": null,
   "metadata": {},
   "outputs": [],
   "source": []
  }
 ],
 "metadata": {
  "kernelspec": {
   "display_name": ".venv",
   "language": "python",
   "name": "python3"
  },
  "language_info": {
   "codemirror_mode": {
    "name": "ipython",
    "version": 3
   },
   "file_extension": ".py",
   "mimetype": "text/x-python",
   "name": "python",
   "nbconvert_exporter": "python",
   "pygments_lexer": "ipython3",
   "version": "3.8.10"
  },
  "orig_nbformat": 4
 },
 "nbformat": 4,
 "nbformat_minor": 2
}
